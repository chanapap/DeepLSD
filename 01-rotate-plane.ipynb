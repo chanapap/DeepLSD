{
 "cells": [
  {
   "cell_type": "code",
   "execution_count": 1,
   "metadata": {},
   "outputs": [
    {
     "data": {
      "text/plain": [
       "(3000000, 3)"
      ]
     },
     "execution_count": 1,
     "metadata": {},
     "output_type": "execute_result"
    }
   ],
   "source": [
    "import numpy as np\n",
    "import cv2\n",
    "\n",
    "align_line = np.array([[[1361, 1411],\n",
    "                        [1477, 1245]]])\n",
    "\n",
    "plane = {\"0_pos_rot\": [[0.06916698068380356, -0.5518658757209778, -1.5223110914230347],\n",
    "                       [115.76455577754594, 7.12439650246335, 0]]}\n",
    "\n",
    "img_path = r\"D:\\3d-reconstruction\\easy-ai-exterior\\server\\oldui_data\\8659525e-8aa6-47c4-a4b1-815289dd473d\\input.jpg\"\n",
    "vertices = np.load(r\"D:\\3d-reconstruction\\easy-ai-exterior\\server\\oldui_data\\8659525e-8aa6-47c4-a4b1-815289dd473d\\vertices.npy\")\n",
    "vertices.shape"
   ]
  },
  {
   "cell_type": "code",
   "execution_count": 2,
   "metadata": {},
   "outputs": [
    {
     "name": "stdout",
     "output_type": "stream",
     "text": [
      "[1361 1411]\n",
      "[1477 1245]\n",
      "[2491477 2823361]\n"
     ]
    },
    {
     "data": {
      "text/plain": [
       "array([[ 0.47336361, -0.49120682, -1.53820431],\n",
       "       [ 0.32089314, -0.58719361, -1.37735081]])"
      ]
     },
     "execution_count": 2,
     "metadata": {},
     "output_type": "execute_result"
    }
   ],
   "source": [
    "mask = cv2.imread(img_path, cv2.IMREAD_GRAYSCALE)\n",
    "mask[:, :] = 0\n",
    "\n",
    "this_group_mask = mask.copy()\n",
    "\n",
    "for line in align_line:\n",
    "    for point in line:\n",
    "        print(point)\n",
    "        this_group_mask[ int(point[1]), int(point[0])] = 255\n",
    "\n",
    "this_group_mask = this_group_mask.reshape(-1,1)\n",
    "\n",
    "idx_selected_vertices = np.where(this_group_mask==255)[0]\n",
    "print(idx_selected_vertices)\n",
    "\n",
    "selected_vertices = vertices[idx_selected_vertices]\n",
    "\n",
    "point1 = selected_vertices[0]\n",
    "point2 = selected_vertices[1]\n",
    "\n",
    "selected_vertices"
   ]
  },
  {
   "cell_type": "code",
   "execution_count": 3,
   "metadata": {},
   "outputs": [
    {
     "name": "stdout",
     "output_type": "stream",
     "text": [
      "corners_world [[-1.91539146  0.09409324 -3.43130681]\n",
      " [ 2.05372542  0.54087126 -3.21566674]\n",
      " [ 2.05372542 -1.19782499  0.38668462]\n",
      " [-1.91539146 -1.64460301  0.17104456]]\n",
      "edges [(array([-1.91539146,  0.09409324, -3.43130681]), array([ 2.05372542,  0.54087126, -3.21566674])), (array([ 2.05372542,  0.54087126, -3.21566674]), array([ 2.05372542, -1.19782499,  0.38668462])), (array([ 2.05372542, -1.19782499,  0.38668462]), array([-1.91539146, -1.64460301,  0.17104456])), (array([-1.91539146, -1.64460301,  0.17104456]), array([-1.91539146,  0.09409324, -3.43130681]))]\n"
     ]
    }
   ],
   "source": [
    "import numpy as np\n",
    "import matplotlib.pyplot as plt\n",
    "from mpl_toolkits.mplot3d import Axes3D\n",
    "from scipy.spatial.transform import Rotation as R\n",
    "\n",
    "# ✅ Step 1: Define Plane Position & Rotation (Three.js uses radians)\n",
    "plane_position = np.array(plane['0_pos_rot'][0])\n",
    "plane_rotation = np.radians(plane['0_pos_rot'][1])  # Convert from degrees to radians\n",
    "\n",
    "# ✅ Step 2: Define the Plane Dimensions\n",
    "plane_width = 4\n",
    "plane_height = 4\n",
    "half_w, half_h = plane_width / 2, plane_height / 2\n",
    "\n",
    "# Define the 4 corners in local space (before transformation)\n",
    "corners_local = np.array([\n",
    "    [-half_w, -half_h, 0],  # Bottom-left\n",
    "    [ half_w, -half_h, 0],  # Bottom-right\n",
    "    [ half_w,  half_h, 0],  # Top-right\n",
    "    [-half_w,  half_h, 0]   # Top-left\n",
    "])\n",
    "\n",
    "# Apply rotation using SciPy's Rotation module\n",
    "rotation_matrix = R.from_euler('XYZ', plane_rotation).as_matrix()\n",
    "corners_world = np.dot(corners_local, rotation_matrix.T) + plane_position\n",
    "print(\"corners_world\", corners_world)\n",
    "\n",
    "# ✅ Step 3: Define the Plane Axes\n",
    "axis_length = 2\n",
    "x_axis_local = np.array([axis_length, 0, 0])  # X-axis in local space\n",
    "y_axis_local = np.array([0, axis_length, 0])  # Y-axis in local space\n",
    "\n",
    "# Transform axes to world space\n",
    "x_axis_world = np.dot(x_axis_local, rotation_matrix.T) + plane_position\n",
    "y_axis_world = np.dot(y_axis_local, rotation_matrix.T) + plane_position\n",
    "\n",
    "# # ✅ Step 4: Plot the Plane, Edges, and Axes\n",
    "# fig = plt.figure()\n",
    "# ax = fig.add_subplot(111, projection='3d')\n",
    "\n",
    "# Plot the edges of the plane\n",
    "edges = [\n",
    "    (corners_world[0], corners_world[1]),  # Bottom edge\n",
    "    (corners_world[1], corners_world[2]),  # Right edge\n",
    "    (corners_world[2], corners_world[3]),  # Top edge\n",
    "    (corners_world[3], corners_world[0])   # Left edge\n",
    "]\n",
    "print(\"edges\", edges)"
   ]
  },
  {
   "cell_type": "code",
   "execution_count": 4,
   "metadata": {},
   "outputs": [
    {
     "name": "stdout",
     "output_type": "stream",
     "text": [
      "Angle between the line and plane's X-axis: 129.41 degrees\n"
     ]
    }
   ],
   "source": [
    "import numpy as np\n",
    "import matplotlib.pyplot as plt\n",
    "from mpl_toolkits.mplot3d import Axes3D\n",
    "from scipy.spatial.transform import Rotation as R\n",
    "\n",
    "# ✅ Step 1: Define Plane Position & Rotation\n",
    "# plane_position = np.array([-0.5716618895530701, 0.44756120443344116, -1.5269027948379517])\n",
    "# plane_rotation = np.radians([-78.0041637440927, -89.59539193800651, 0])  # Convert from degrees to radians\n",
    "\n",
    "# ✅ Step 2: Define Two Points\n",
    "# point1 = np.array([-0.58744991, 0.06091256, -0.89432341])\n",
    "# point2 = np.array([-0.59039378, -0.3504971, -0.89219105])\n",
    "\n",
    "# Compute the midpoint of the line\n",
    "line_midpoint = (point1 + point2) * 0.5\n",
    "\n",
    "# ✅ Step 4: Compute translation to move the line to the plane's center\n",
    "translation = plane_position - line_midpoint\n",
    "moved_point1 = point1 + translation\n",
    "moved_point2 = point2 + translation\n",
    "\n",
    "# ✅ Step 6: Calculate angle of the line with the plane's X-axis\n",
    "line_direction = (moved_point2 - moved_point1) / np.linalg.norm(moved_point2 - moved_point1)  # Normalize\n",
    "plane_x_axis = np.array([1, 0, 0])  # X-axis in local space\n",
    "\n",
    "# Rotate the X-axis to align with the plane’s orientation\n",
    "rotation_matrix = R.from_euler('XYZ', plane_rotation).as_matrix()\n",
    "plane_x_axis_world = np.dot(rotation_matrix, plane_x_axis)\n",
    "\n",
    "# Compute the angle using the dot product\n",
    "angle_rad = np.arccos(np.clip(np.dot(line_direction, plane_x_axis_world), -1.0, 1.0))\n",
    "angle_deg = np.degrees(angle_rad)\n",
    "\n",
    "print(f\"Angle between the line and plane's X-axis: {angle_deg:.2f} degrees\")"
   ]
  },
  {
   "cell_type": "code",
   "execution_count": 5,
   "metadata": {},
   "outputs": [
    {
     "data": {
      "text/plain": [
       "array([2.02047266, 0.12434418, 0.        ])"
      ]
     },
     "execution_count": 5,
     "metadata": {},
     "output_type": "execute_result"
    }
   ],
   "source": [
    "plane_rotation"
   ]
  },
  {
   "cell_type": "code",
   "execution_count": 6,
   "metadata": {},
   "outputs": [
    {
     "name": "stdout",
     "output_type": "stream",
     "text": [
      "Initial angle: 129.41 degrees\n",
      "Best rotation Z: 129.41 degrees\n",
      "New minimized angle after rotation: 0.60 degrees\n",
      "Final Plane Rotation (Degrees): X = 115.764556, Y = 7.124397, Z = 129.412056\n"
     ]
    }
   ],
   "source": [
    "import numpy as np\n",
    "from scipy.spatial.transform import Rotation as R\n",
    "\n",
    "# ✅ Step 1: Define Plane Position & Rotation (Input in Degrees)\n",
    "plane_rotation_degrees = plane['0_pos_rot'][1]\n",
    "plane_rotation_radians = np.radians(plane_rotation_degrees)  # Convert to radians\n",
    "\n",
    "# Compute the transformed X-axis of the plane\n",
    "plane_x_axis = np.array([1, 0, 0])  # Local X-axis\n",
    "rotation_matrix = R.from_euler('XYZ', plane_rotation).as_matrix()\n",
    "plane_x_axis_world = np.dot(rotation_matrix, plane_x_axis)\n",
    "\n",
    "# Compute the initial angle\n",
    "angle_rad = np.arccos(np.clip(np.dot(line_direction, plane_x_axis_world), -1.0, 1.0))\n",
    "angle_deg = np.degrees(angle_rad)\n",
    "\n",
    "print(f\"Initial angle: {angle_deg:.2f} degrees\")\n",
    "\n",
    "# ✅ Step 2: Function to compute the new angle after rotating around Z\n",
    "def get_final_angle(test_rotation_z):\n",
    "    test_rotation = plane_rotation.copy()\n",
    "    test_rotation[2] = test_rotation_z  # Apply test Z-rotation\n",
    "    test_rotation_matrix = R.from_euler('XYZ', test_rotation).as_matrix()\n",
    "    test_plane_x_axis = np.dot(test_rotation_matrix, np.array([1, 0, 0]))  # Transformed X-axis\n",
    "    \n",
    "    new_angle_rad = np.arccos(np.clip(np.dot(line_direction, test_plane_x_axis), -1.0, 1.0))\n",
    "    return np.degrees(new_angle_rad)\n",
    "\n",
    "# ✅ Step 3: Compute both possible Z-rotations\n",
    "clockwise_rotation_z = plane_rotation[2] + np.radians(-angle_deg)\n",
    "counter_clockwise_rotation_z = plane_rotation[2] + np.radians(angle_deg)\n",
    "\n",
    "# ✅ Step 4: Compute final angles\n",
    "final_angle_clockwise = get_final_angle(clockwise_rotation_z)\n",
    "final_angle_counter_clockwise = get_final_angle(counter_clockwise_rotation_z)\n",
    "\n",
    "# ✅ Step 5: Choose the rotation that minimizes the absolute angle\n",
    "if abs(final_angle_clockwise) < abs(final_angle_counter_clockwise):\n",
    "    best_rotation_z = clockwise_rotation_z\n",
    "else:\n",
    "    best_rotation_z = counter_clockwise_rotation_z\n",
    "\n",
    "# ✅ Step 7: Convert final plane rotation back to degrees\n",
    "plane_rotation_radians[2] = best_rotation_z  # Update Z rotation\n",
    "final_plane_rotation_degrees = np.degrees(plane_rotation_radians)  # Convert back to degrees\n",
    "\n",
    "# ✅ Step 8: Print final results\n",
    "print(f\"Best rotation Z: {final_plane_rotation_degrees[2]:.2f} degrees\")\n",
    "print(f\"New minimized angle after rotation: {min(abs(final_angle_clockwise), abs(final_angle_counter_clockwise)):.2f} degrees\")\n",
    "\n",
    "print(f\"Final Plane Rotation (Degrees): X = {final_plane_rotation_degrees[0]:.6f}, \"\n",
    "      f\"Y = {final_plane_rotation_degrees[1]:.6f}, \"\n",
    "      f\"Z = {final_plane_rotation_degrees[2]:.6f}\")\n"
   ]
  },
  {
   "cell_type": "code",
   "execution_count": null,
   "metadata": {},
   "outputs": [],
   "source": []
  }
 ],
 "metadata": {
  "kernelspec": {
   "display_name": "ezmoge",
   "language": "python",
   "name": "python3"
  },
  "language_info": {
   "codemirror_mode": {
    "name": "ipython",
    "version": 3
   },
   "file_extension": ".py",
   "mimetype": "text/x-python",
   "name": "python",
   "nbconvert_exporter": "python",
   "pygments_lexer": "ipython3",
   "version": "3.12.7"
  }
 },
 "nbformat": 4,
 "nbformat_minor": 2
}
